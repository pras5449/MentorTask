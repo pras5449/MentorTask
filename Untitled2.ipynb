{
  "nbformat": 4,
  "nbformat_minor": 0,
  "metadata": {
    "colab": {
      "provenance": [],
      "toc_visible": true,
      "authorship_tag": "ABX9TyNT23BPBSfF0DJBKsCuVk8m",
      "include_colab_link": true
    },
    "kernelspec": {
      "name": "python3",
      "display_name": "Python 3"
    },
    "language_info": {
      "name": "python"
    }
  },
  "cells": [
    {
      "cell_type": "markdown",
      "metadata": {
        "id": "view-in-github",
        "colab_type": "text"
      },
      "source": [
        "<a href=\"https://colab.research.google.com/github/pras5449/MentorTask/blob/main/Untitled2.ipynb\" target=\"_parent\"><img src=\"https://colab.research.google.com/assets/colab-badge.svg\" alt=\"Open In Colab\"/></a>"
      ]
    },
    {
      "cell_type": "code",
      "execution_count": null,
      "metadata": {
        "colab": {
          "base_uri": "https://localhost:8080/"
        },
        "id": "E8uSXMlHQ_iv",
        "outputId": "d628b301-d921-4c1c-e266-b15b4f70b032"
      },
      "outputs": [
        {
          "output_type": "stream",
          "name": "stdout",
          "text": [
            "(5, 4, 3, 9)\n",
            "2772\n"
          ]
        }
      ],
      "source": [
        "from ast import Continue\n",
        "import itertools as it \n",
        "x=(0,1,2,3,4,5,6,7,8,9)\n",
        "pws=(5,4,3,9)\n",
        "count=[]\n",
        "d=it.permutations(x,4)\n",
        "for i in list(d):\n",
        "  count.append(i)\n",
        "  if i==(5,4,3,9):\n",
        "      break\n",
        "  else:\n",
        "      continue\n",
        "print(i)      \n",
        "print(len(count)) "
      ]
    },
    {
      "cell_type": "markdown",
      "source": [
        "# New Section"
      ],
      "metadata": {
        "id": "AKYncmvVRgiQ"
      }
    }
  ]
}